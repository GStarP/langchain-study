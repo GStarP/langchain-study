{
 "cells": [
  {
   "cell_type": "code",
   "execution_count": 1,
   "metadata": {},
   "outputs": [],
   "source": [
    "import getpass\n",
    "import os\n",
    "\n",
    "os.environ['LANGCHAIN_TRACING_V2'] = 'true'\n",
    "os.environ['LANGCHAIN_API_KEY'] = getpass.getpass()\n",
    "os.environ['OPENAI_API_KEY'] = getpass.getpass()\n",
    "\n",
    "from langchain_openai import ChatOpenAI\n",
    "\n",
    "model = ChatOpenAI(\n",
    "    model='deepseek-chat', \n",
    "    openai_api_key=os.environ['OPENAI_API_KEY'], \n",
    "    openai_api_base='https://api.deepseek.com'\n",
    ")"
   ]
  },
  {
   "cell_type": "code",
   "execution_count": 7,
   "metadata": {},
   "outputs": [],
   "source": [
    "from typing import Optional\n",
    "\n",
    "from langchain_core.pydantic_v1 import BaseModel, Field\n",
    "\n",
    "\n",
    "class Joke(BaseModel):\n",
    "    \"\"\"Joke to tell user.\"\"\"\n",
    "\n",
    "    setup: str = Field(description=\"The setup of the joke\")\n",
    "    punchline: str = Field(description=\"The punchline to the joke\")\n",
    "    rating: Optional[int] = Field(description=\"How funny the joke is, from 5 to 10\")\n",
    "\n",
    "\n",
    "structured_llm = model.with_structured_output(Joke)\n",
    "\n",
    "structured_llm.invoke(\"Tell me a joke about cats\")\n",
    "\n",
    "# ! output nothing\n",
    "# with the help of LangSmith, we find that the model replies a joke but `PydanticToolsParser` returns `null`\n",
    "# this means `with_structured_output` is only responsible for parsing output and do nothing in input phase"
   ]
  },
  {
   "cell_type": "code",
   "execution_count": 8,
   "metadata": {},
   "outputs": [
    {
     "data": {
      "text/plain": [
       "Joke(setup='Why did the cat sit on the computer?', punchline='To keep an eye on the mouse!', rating=4)"
      ]
     },
     "execution_count": 8,
     "metadata": {},
     "output_type": "execute_result"
    }
   ],
   "source": [
    "# so we should define format in prompt\n",
    "structured_llm = model.with_structured_output(Joke, method=\"json_mode\")\n",
    "structured_llm.invoke(\n",
    "    \"Tell me a joke about cats, respond in JSON with `setup`, `punchline` and `rating` keys\"\n",
    ")\n",
    "# this time, a json reply can be parsed to `Joke` correctly\n",
    "# be attention, we said `rating` should be 5-10 in `Joke` but model doesn't know this"
   ]
  },
  {
   "cell_type": "code",
   "execution_count": 11,
   "metadata": {},
   "outputs": [
    {
     "data": {
      "text/plain": [
       "Game(description='A vibrant open-world RPG with engaging elemental combat, diverse characters, and a captivating story, offering both solo and cooperative play.', rating=9)"
      ]
     },
     "execution_count": 11,
     "metadata": {},
     "output_type": "execute_result"
    }
   ],
   "source": [
    "# so we should provide more information in prompt\n",
    "# few-shot prompting: giving several examples to define format and requirements\n",
    "from langchain_core.prompts import ChatPromptTemplate\n",
    "\n",
    "system = \"\"\"You are a game reviewer. Your specialty is reviewing video games. \\\n",
    "Return a review for game which has the description (no more than 30 words) and the rating (from 5 to 10).\n",
    "\n",
    "Here are some examples:\n",
    "\n",
    "example_user: Zelda: Breath of the Wild\n",
    "example_assistant: {{\"description\": \"An open-world masterpiece that combines stunning visuals, intricate puzzles, and dynamic combat, offering unparalleled freedom and exploration.\", \"rating\": 10}}\n",
    "\n",
    "example_user: DotA2\n",
    "example_assistant: {{\"description\": \"A highly strategic and competitive MOBA with deep mechanics, diverse heroes, and a thriving esports scene, offering endless replayability.\", \"rating\": 9.5}}\n",
    "\n",
    "example_user: JX3\n",
    "example_assistant: {{\"description\": \"A visually stunning MMORPG set in ancient China, featuring rich storytelling, intricate martial arts combat, and a vibrant, immersive world.\", \"\"rating\": 9}}\"\"\"\n",
    "\n",
    "prompt = ChatPromptTemplate.from_messages([(\"system\", system), (\"human\", \"{input}\")])\n",
    "\n",
    "class Game(BaseModel):\n",
    "    \"\"\"Review of the video game\"\"\"\n",
    "\n",
    "    description: str = Field(description=\"The description of the game\")\n",
    "    rating: int = Field(description=\"How good the game is, from 5 to 10\")\n",
    "\n",
    "structured_llm = model.with_structured_output(Game, method=\"json_mode\")\n",
    "\n",
    "few_shot_structured_llm = prompt | structured_llm\n",
    "few_shot_structured_llm.invoke(\"Genshin Impact\")"
   ]
  },
  {
   "cell_type": "code",
   "execution_count": 12,
   "metadata": {},
   "outputs": [
    {
     "name": "stdout",
     "output_type": "stream",
     "text": [
      "System: You are a game reviewer. Your specialty is reviewing video games. Return a review for game which has the description (no more than 30 words) and the rating (from 5 to 10). Wrap the output in `json` tags\n",
      "The output should be formatted as a JSON instance that conforms to the JSON schema below.\n",
      "\n",
      "As an example, for the schema {\"properties\": {\"foo\": {\"title\": \"Foo\", \"description\": \"a list of strings\", \"type\": \"array\", \"items\": {\"type\": \"string\"}}}, \"required\": [\"foo\"]}\n",
      "the object {\"foo\": [\"bar\", \"baz\"]} is a well-formatted instance of the schema. The object {\"properties\": {\"foo\": [\"bar\", \"baz\"]}} is not well-formatted.\n",
      "\n",
      "Here is the output schema:\n",
      "```\n",
      "{\"description\": \"Review of the video game\", \"properties\": {\"description\": {\"title\": \"Description\", \"description\": \"The description of the game\", \"type\": \"string\"}, \"rating\": {\"title\": \"Rating\", \"description\": \"How good the game is, from 5 to 10\", \"type\": \"integer\"}}, \"required\": [\"description\", \"rating\"]}\n",
      "```\n",
      "Human: Genshin Impact\n"
     ]
    }
   ],
   "source": [
    "# as a common thought, we want `PydanticToolsParser` to do prompt for us\n",
    "# yes, it can, but the auto-generated prompt is not so good as few-shot prompting\n",
    "from langchain_core.output_parsers import PydanticOutputParser\n",
    "\n",
    "parser = PydanticOutputParser(pydantic_object=Game)\n",
    "\n",
    "prompt = ChatPromptTemplate.from_messages(\n",
    "    [\n",
    "        (\n",
    "            \"system\",\n",
    "            \"You are a game reviewer. Your specialty is reviewing video games. Return a review for game which has the description (no more than 30 words) and the rating (from 5 to 10). Wrap the output in `json` tags\\n{format_instructions}\",\n",
    "        ),\n",
    "        (\"human\", \"{query}\"),\n",
    "    ]\n",
    ").partial(format_instructions=parser.get_format_instructions())\n",
    "\n",
    "query = \"Genshin Impact\"\n",
    "\n",
    "print(prompt.invoke(query).to_string())"
   ]
  },
  {
   "cell_type": "code",
   "execution_count": 13,
   "metadata": {},
   "outputs": [
    {
     "data": {
      "text/plain": [
       "Game(description='Engaging open-world adventure with stunning visuals and a deep, immersive storyline.', rating=9)"
      ]
     },
     "execution_count": 13,
     "metadata": {},
     "output_type": "execute_result"
    }
   ],
   "source": [
    "chain = prompt | model | parser\n",
    "chain.invoke({\"query\": query})"
   ]
  }
 ],
 "metadata": {
  "kernelspec": {
   "display_name": "tts",
   "language": "python",
   "name": "python3"
  },
  "language_info": {
   "codemirror_mode": {
    "name": "ipython",
    "version": 3
   },
   "file_extension": ".py",
   "mimetype": "text/x-python",
   "name": "python",
   "nbconvert_exporter": "python",
   "pygments_lexer": "ipython3",
   "version": "3.11.9"
  }
 },
 "nbformat": 4,
 "nbformat_minor": 2
}
